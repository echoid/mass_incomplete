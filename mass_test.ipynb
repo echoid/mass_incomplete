{
 "cells": [
  {
   "cell_type": "code",
   "execution_count": 4,
   "metadata": {},
   "outputs": [],
   "source": [
    "from sklearn.model_selection import train_test_split\n",
    "\n",
    "import numpy as np\n",
    "from sklearn import svm\n",
    "import pandas as pd \n",
    "from mass import Modify_Kernel as MKernel\n",
    "from sklearn.metrics import f1_score, accuracy_score\n",
    "from sklearn.ensemble import RandomForestClassifier\n",
    "import matplotlib.pyplot as plt\n",
    "import seaborn as sns\n",
    "from sklearn.decomposition import KernelPCA\n",
    "from sklearn.ensemble import RandomForestClassifier\n",
    "from sklearn.metrics import f1_score, accuracy_score, confusion_matrix\n",
    "\n",
    "import numpy as np\n",
    "import pandas as pd\n",
    "from sklearn.decomposition import KernelPCA\n",
    "from sklearn.ensemble import RandomForestRegressor\n",
    "from sklearn.model_selection import train_test_split, cross_val_score, KFold\n",
    "from sklearn.metrics import mean_squared_error, mean_absolute_error\n"
   ]
  },
  {
   "cell_type": "code",
   "execution_count": 5,
   "metadata": {},
   "outputs": [],
   "source": [
    "param_value = None\n",
    "data_stats = None"
   ]
  },
  {
   "cell_type": "code",
   "execution_count": 6,
   "metadata": {},
   "outputs": [],
   "source": []
  },
  {
   "cell_type": "code",
   "execution_count": 7,
   "metadata": {},
   "outputs": [],
   "source": [
    "abalone = pd.read_csv(\"data/abalone_test.csv\",header = None)\n",
    "abalone = {\"X\":np.array(abalone.iloc[:, :-1]),\n",
    "            \"Y\":np.array(abalone.iloc[:, -1])}\n",
    "\n",
    "\n"
   ]
  },
  {
   "cell_type": "code",
   "execution_count": 8,
   "metadata": {},
   "outputs": [],
   "source": []
  },
  {
   "cell_type": "code",
   "execution_count": 9,
   "metadata": {},
   "outputs": [],
   "source": [
    "def make_missing(data, rate = 0.1, type = \"mcar\"):\n",
    "    missing_rate = rate  # 10% of the data will be missing\n",
    "    # Calculate the number of elements to set as missing\n",
    "    total_elements = data.size\n",
    "    missing_elements = int(total_elements * missing_rate)\n",
    "\n",
    "    # Create a random mask\n",
    "    #np.random.seed(1)\n",
    "\n",
    "    if type == \"mcar\":\n",
    "        mask_indices = np.random.choice(total_elements, missing_elements, replace=False)\n",
    "\n",
    "        # Convert flat indices to multi-dimensional indices\n",
    "        multi_indices = np.unravel_index(mask_indices, data.shape)\n",
    "\n",
    "        # Set selected elements to NaN\n",
    "        data[multi_indices] = np.nan\n",
    "    elif type == \"mnar\":\n",
    "        for col in range(data.shape[1]):\n",
    "            column_data = data[:, col]\n",
    "            median_value = np.percentile(column_data, 60)\n",
    "            #print(len(upper_quantile_indices))\n",
    "            upper_quantile_indices = np.where(column_data > median_value)[0]\n",
    "            missingnum = int(missing_elements/data.shape[1])\n",
    "\n",
    "            selected_indices = np.random.choice(upper_quantile_indices,missingnum , replace=False)\n",
    "            data[selected_indices, col] = np.nan\n",
    "\n",
    "\n",
    "    return data"
   ]
  },
  {
   "cell_type": "code",
   "execution_count": null,
   "metadata": {},
   "outputs": [],
   "source": [
    "data_stats = None"
   ]
  },
  {
   "attachments": {},
   "cell_type": "markdown",
   "metadata": {},
   "source": [
    "## Syn 1 (Simple)"
   ]
  },
  {
   "cell_type": "code",
   "execution_count": null,
   "metadata": {},
   "outputs": [],
   "source": [
    "## M0 \n",
    "run_test(syn_1,0.05)\n",
    "run_test(syn_1,0.2)\n",
    "run_test(syn_1,0.5)"
   ]
  },
  {
   "cell_type": "code",
   "execution_count": null,
   "metadata": {},
   "outputs": [],
   "source": [
    "## Modify\n",
    "run_test(syn_1,0.05)\n",
    "run_test(syn_1,0.2)\n",
    "run_test(syn_1,0.5)"
   ]
  },
  {
   "attachments": {},
   "cell_type": "markdown",
   "metadata": {},
   "source": [
    "## Syn2 (small dataset)"
   ]
  },
  {
   "cell_type": "code",
   "execution_count": null,
   "metadata": {},
   "outputs": [],
   "source": [
    "## Modify\n",
    "run_test(syn_2,0.05)\n",
    "run_test(syn_2,0.2)\n",
    "run_test(syn_2,0.5)"
   ]
  },
  {
   "attachments": {},
   "cell_type": "markdown",
   "metadata": {},
   "source": [
    "## Syn3 (complex)"
   ]
  },
  {
   "cell_type": "code",
   "execution_count": null,
   "metadata": {},
   "outputs": [],
   "source": [
    "## Modify\n",
    "run_test(syn_3,0.05)\n",
    "run_test(syn_3,0.2)\n",
    "run_test(syn_3,0.5)"
   ]
  },
  {
   "attachments": {},
   "cell_type": "markdown",
   "metadata": {},
   "source": [
    "## Banknote\n"
   ]
  },
  {
   "cell_type": "code",
   "execution_count": null,
   "metadata": {},
   "outputs": [],
   "source": [
    "## Modify\n",
    "run_test(banknote,0.05)\n",
    "run_test(banknote,0.2)\n",
    "run_test(banknote,0.5)"
   ]
  },
  {
   "attachments": {},
   "cell_type": "markdown",
   "metadata": {},
   "source": [
    "## MNAR"
   ]
  },
  {
   "attachments": {},
   "cell_type": "markdown",
   "metadata": {},
   "source": [
    "### Banknote"
   ]
  },
  {
   "cell_type": "code",
   "execution_count": 18,
   "metadata": {},
   "outputs": [
    {
     "name": "stdout",
     "output_type": "stream",
     "text": [
      "Mean CV F1 Score mass: 0.9488\n",
      "Mean CV Accuracy mass: 0.9491\n",
      "Mean CV F1 Score mean: 0.8889\n",
      "Mean CV Accuracy mean: 0.8890\n",
      "Mean CV F1 Score mass: 0.9232\n",
      "Mean CV Accuracy mass: 0.9236\n",
      "Mean CV F1 Score mean: 0.9707\n",
      "Mean CV Accuracy mean: 0.9709\n",
      "Mean CV F1 Score mass: 0.9122\n",
      "Mean CV Accuracy mass: 0.9127\n",
      "Mean CV F1 Score mean: 0.9378\n",
      "Mean CV Accuracy mean: 0.9382\n"
     ]
    }
   ],
   "source": [
    "\n",
    "run_test(banknote,0.05,\"mnar\")\n",
    "run_test(syn_1,0.05,\"mnar\",\"mean\")\n",
    "\n",
    "\n",
    "run_test(banknote,0.1,\"mnar\")\n",
    "run_test(banknote,0.1,\"mnar\",\"mean\")\n",
    "\n",
    "\n",
    "run_test(banknote,0.3,\"mnar\")\n",
    "run_test(banknote,0.3,\"mnar\",\"mean\")"
   ]
  },
  {
   "cell_type": "code",
   "execution_count": null,
   "metadata": {},
   "outputs": [],
   "source": []
  },
  {
   "attachments": {},
   "cell_type": "markdown",
   "metadata": {},
   "source": [
    "### abalone - Regression"
   ]
  },
  {
   "cell_type": "code",
   "execution_count": null,
   "metadata": {},
   "outputs": [],
   "source": [
    "# ## Modify\n",
    "# run_test_reg(abalone,0.05,\"mnar\")\n",
    "# run_test_reg(abalone,0.1,\"mnar\")\n",
    "# run_test_reg(abalone,0.3,\"mnar\")"
   ]
  },
  {
   "attachments": {},
   "cell_type": "markdown",
   "metadata": {},
   "source": [
    "### Syn1"
   ]
  },
  {
   "cell_type": "code",
   "execution_count": 15,
   "metadata": {},
   "outputs": [
    {
     "name": "stdout",
     "output_type": "stream",
     "text": [
      "Mean CV F1 Score mass: 0.8618\n",
      "Mean CV Accuracy mass: 0.8620\n",
      "Mean CV F1 Score mean: 0.8868\n",
      "Mean CV Accuracy mean: 0.8870\n",
      "Mean CV F1 Score mass: 0.8629\n",
      "Mean CV Accuracy mass: 0.8630\n",
      "Mean CV F1 Score mean: 0.8770\n",
      "Mean CV Accuracy mean: 0.8770\n",
      "Mean CV F1 Score mass: 0.8689\n",
      "Mean CV Accuracy mass: 0.8690\n",
      "Mean CV F1 Score mean: 0.8839\n",
      "Mean CV Accuracy mean: 0.8840\n"
     ]
    }
   ],
   "source": [
    "\n",
    "run_test(syn_1,0.05,\"mnar\")\n",
    "run_test(syn_1,0.05,\"mnar\",\"mean\")\n",
    "\n",
    "\n",
    "run_test(syn_1,0.1,\"mnar\")\n",
    "run_test(syn_1,0.1,\"mnar\",\"mean\")\n",
    "\n",
    "\n",
    "run_test(syn_1,0.3,\"mnar\")\n",
    "run_test(syn_1,0.3,\"mnar\",\"mean\")\n",
    "\n",
    "\n"
   ]
  },
  {
   "attachments": {},
   "cell_type": "markdown",
   "metadata": {},
   "source": [
    "### Syn2"
   ]
  },
  {
   "cell_type": "code",
   "execution_count": 16,
   "metadata": {},
   "outputs": [
    {
     "name": "stdout",
     "output_type": "stream",
     "text": [
      "Mean CV F1 Score mass: 0.8747\n",
      "Mean CV Accuracy mass: 0.8750\n",
      "Mean CV F1 Score mean: 0.8799\n",
      "Mean CV Accuracy mean: 0.8800\n",
      "Mean CV F1 Score mass: 0.8396\n",
      "Mean CV Accuracy mass: 0.8400\n",
      "Mean CV F1 Score mean: 0.8598\n",
      "Mean CV Accuracy mean: 0.8600\n",
      "Mean CV F1 Score mass: 0.8239\n",
      "Mean CV Accuracy mass: 0.8250\n",
      "Mean CV F1 Score mean: 0.8749\n",
      "Mean CV Accuracy mean: 0.8750\n"
     ]
    }
   ],
   "source": [
    "\n",
    "run_test(syn_2,0.05,\"mnar\")\n",
    "run_test(syn_2,0.05,\"mnar\",\"mean\")\n",
    "\n",
    "\n",
    "run_test(syn_2,0.1,\"mnar\")\n",
    "run_test(syn_2,0.1,\"mnar\",\"mean\")\n",
    "\n",
    "\n",
    "run_test(syn_2,0.3,\"mnar\")\n",
    "run_test(syn_2,0.3,\"mnar\",\"mean\")\n"
   ]
  },
  {
   "attachments": {},
   "cell_type": "markdown",
   "metadata": {},
   "source": [
    "### Syn3"
   ]
  },
  {
   "cell_type": "code",
   "execution_count": 17,
   "metadata": {},
   "outputs": [
    {
     "name": "stdout",
     "output_type": "stream",
     "text": [
      "Mean CV F1 Score mass: 0.7841\n",
      "Mean CV Accuracy mass: 0.7850\n",
      "Mean CV F1 Score mean: 0.8979\n",
      "Mean CV Accuracy mean: 0.8980\n",
      "Mean CV F1 Score mass: 0.8179\n",
      "Mean CV Accuracy mass: 0.8180\n",
      "Mean CV F1 Score mean: 0.8809\n",
      "Mean CV Accuracy mean: 0.8810\n",
      "Mean CV F1 Score mass: 0.8308\n",
      "Mean CV Accuracy mass: 0.8310\n",
      "Mean CV F1 Score mean: 0.8538\n",
      "Mean CV Accuracy mean: 0.8540\n"
     ]
    }
   ],
   "source": [
    "\n",
    "run_test(syn_3,0.05,\"mnar\")\n",
    "run_test(syn_3,0.05,\"mnar\",\"mean\")\n",
    "\n",
    "\n",
    "run_test(syn_3,0.1,\"mnar\")\n",
    "run_test(syn_3,0.1,\"mnar\",\"mean\")\n",
    "\n",
    "\n",
    "run_test(syn_3,0.3,\"mnar\")\n",
    "run_test(syn_3,0.3,\"mnar\",\"mean\")"
   ]
  },
  {
   "cell_type": "code",
   "execution_count": null,
   "metadata": {},
   "outputs": [],
   "source": []
  },
  {
   "cell_type": "code",
   "execution_count": 14,
   "metadata": {},
   "outputs": [],
   "source": [
    "from sklearn.impute import SimpleImputer\n",
    "def run_test(data,missing_rate,mtype = \"mcar\",model = \"mass\",data_stats = None):\n",
    "    X = data[\"X\"]\n",
    "    Y = data[\"Y\"]\n",
    "    train_X, test_X, train_Y, test_Y = train_test_split(X, Y, test_size=0.2, random_state=42)\n",
    "\n",
    "\n",
    "    train_X = make_missing(train_X,rate = missing_rate,type = mtype)\n",
    "    test_X = make_missing(test_X,rate = missing_rate,type = mtype)\n",
    "    \n",
    "    if model == \"mass\":\n",
    "        kernal = MKernel(None, data_stats)\n",
    "        kernal.set_nbins(param_value)\n",
    "\n",
    "\n",
    "        train_mod, test_mod = kernal.build_model(train_X, test_X)  # this does the pre-processing step\n",
    "\n",
    "        sim_train = kernal.transform(train_mod)\n",
    "        sim_test = kernal.transform(test_mod,train_mod)  # row = train, col = test\n",
    "\n",
    "        # Configure Kernel PCA for precomputed kernels\n",
    "        kpca = KernelPCA(kernel='precomputed')\n",
    "\n",
    "        # Transform data using Kernel PCA\n",
    "        X_kpca_train = kpca.fit_transform(sim_train)\n",
    "        X_kpca_test = kpca.transform(sim_test)\n",
    "\n",
    "    elif model == \"mean\":\n",
    "        # Mean imputation\n",
    "        imputer = SimpleImputer(strategy='mean')\n",
    "\n",
    "        # Fit the imputer on the training data and transform both training and test data\n",
    "        X_kpca_train = imputer.fit_transform(train_X)\n",
    "        X_kpca_test = imputer.transform(test_X)\n",
    "\n",
    "\n",
    "\n",
    "\n",
    "    #  Calculate F1 score and accuracy\n",
    "    # Initialize the RandomForest classifier\n",
    "    rf = RandomForestClassifier(n_estimators=100, random_state=42)\n",
    "\n",
    "    # Perform cross-validation\n",
    "    cv = StratifiedKFold(n_splits=5, shuffle=True, random_state=42)\n",
    "    f1_scores = cross_val_score(rf, X_kpca_test, test_Y, cv=cv, scoring='f1_macro')\n",
    "    acc_scores = cross_val_score(rf, X_kpca_test, test_Y, cv=cv, scoring='accuracy')\n",
    "\n",
    "    # Print mean F1 score and accuracy\n",
    "    print(f\"Mean CV F1 Score {model}: {np.mean(f1_scores):.4f}\")\n",
    "    print(f\"Mean CV Accuracy {model}: {np.mean(acc_scores):.4f}\")"
   ]
  },
  {
   "cell_type": "code",
   "execution_count": null,
   "metadata": {},
   "outputs": [],
   "source": [
    "\n",
    "def run_test_reg(data,missing_rate,data_stats,mtype = \"mcar\"):\n",
    "    X = data[\"X\"]\n",
    "    Y = data[\"Y\"]\n",
    "    train_X, test_X, train_Y, test_Y = train_test_split(X, Y, test_size=0.2, random_state=42)\n",
    "\n",
    "\n",
    "    train_X = make_missing(train_X,rate = missing_rate,type = mtype)\n",
    "    test_X = make_missing(test_X,rate = missing_rate,type = mtype)\n",
    "    # modify_krn = Modify_Kernel(None, data_stats)\n",
    "    # modify_krn.set_nbins(param_value)\n",
    "    kernal = MKernel(None, data_stats)\n",
    "    kernal.set_nbins(param_value)\n",
    "\n",
    "\n",
    "    train_mod, test_mod = kernal.build_model(train_X, test_X)  # this does the pre-processing step\n",
    "\n",
    "    sim_train = kernal.transform(train_mod)\n",
    "    sim_test = kernal.transform(test_mod,train_mod)  # row = train, col = test\n",
    "\n",
    "\n",
    "    # Configure Kernel PCA for precomputed kernels\n",
    "    kpca = KernelPCA(kernel='precomputed')\n",
    "\n",
    "    # Transform data using Kernel PCA\n",
    "    X_kpca_train = kpca.fit_transform(sim_train)\n",
    "    X_kpca_test = kpca.transform(sim_test)\n",
    "\n",
    "    # Initialize the RandomForest regressor\n",
    "    rf = RandomForestRegressor(n_estimators=100, random_state=42)\n",
    "\n",
    "    # Perform cross-validation\n",
    "    cv = KFold(n_splits=5, shuffle=True, random_state=42)\n",
    "    mse_scores = cross_val_score(rf, X_kpca_test, test_Y, cv=cv, scoring='neg_mean_squared_error')\n",
    "    mae_scores = cross_val_score(rf, X_kpca_test, test_Y, cv=cv, scoring='neg_mean_absolute_error')\n",
    "\n",
    "    # Print mean MSE and MAE\n",
    "    print(f\"Mean Cross-Validation MSE: {-np.mean(mse_scores):.4f}\")\n",
    "    print(f\"Mean Cross-Validation MAE: {-np.mean(mae_scores):.4f}\")\n"
   ]
  }
 ],
 "metadata": {
  "kernelspec": {
   "display_name": "Python 3 (ipykernel)",
   "language": "python",
   "name": "python3"
  },
  "language_info": {
   "codemirror_mode": {
    "name": "ipython",
    "version": 3
   },
   "file_extension": ".py",
   "mimetype": "text/x-python",
   "name": "python",
   "nbconvert_exporter": "python",
   "pygments_lexer": "ipython3",
   "version": "3.11.2"
  }
 },
 "nbformat": 4,
 "nbformat_minor": 4
}
